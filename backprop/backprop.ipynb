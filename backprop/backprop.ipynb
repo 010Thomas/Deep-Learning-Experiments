{
 "cells": [
  {
   "cell_type": "markdown",
   "metadata": {},
   "source": [
    "## Backprop demo on a single unit linear MLP\n",
    "This is a demonstration of how backpropagation works on a single unit MLP"
   ]
  },
  {
   "cell_type": "code",
   "execution_count": 89,
   "metadata": {},
   "outputs": [],
   "source": [
    "import torch\n",
    "import torch.nn as nn\n",
    "import torch.nn.functional as F\n",
    "import torch.optim as optim"
   ]
  },
  {
   "cell_type": "markdown",
   "metadata": {},
   "source": [
    "A single neuron/unit MLP with linear activation"
   ]
  },
  {
   "cell_type": "code",
   "execution_count": 95,
   "metadata": {},
   "outputs": [
    {
     "name": "stdout",
     "output_type": "stream",
     "text": [
      "-----------0-------------\n",
      "0. Bias grad:  None\n",
      "0. Weights grad:  None\n",
      "0. Bias:  tensor(0., grad_fn=<SelectBackward>)\n",
      "0. Weights:  tensor([1.], grad_fn=<SelectBackward>)\n",
      "0. Input:  tensor([0.])\n",
      "0. Output:  tensor([0.], grad_fn=<AddBackward0>)\n",
      "Loss:  tensor(1., grad_fn=<MseLossBackward>)\n",
      "Loss function:  <MseLossBackward object at 0x11e120198>\n",
      "-----------1-------------\n",
      "1. Bias grad:  tensor([-2.])\n",
      "1. Weights grad:  tensor([[0.]])\n",
      "1. Bias:  tensor(0.2000, grad_fn=<SelectBackward>)\n",
      "1. Weights:  tensor([1.], grad_fn=<SelectBackward>)\n",
      "1. Input:  tensor([1.])\n",
      "1. Output:  tensor([1.2000], grad_fn=<AddBackward0>)\n",
      "-----------2-------------\n",
      "2. Bias grad:  tensor([-3.6000])\n",
      "2. Weights grad:  tensor([[-3.6000]])\n",
      "2. Bias:  tensor(0.5600, grad_fn=<SelectBackward>)\n",
      "2. Weights:  tensor([1.3600], grad_fn=<SelectBackward>)\n"
     ]
    }
   ],
   "source": [
    "class Net(nn.Module):\n",
    "    def __init__(self):\n",
    "        super(Net, self).__init__()\n",
    "        self.fc1 = nn.Linear(1, 1)\n",
    "    \n",
    "    def forward(self, x):\n",
    "        x = self.fc1(x)\n",
    "        return x\n",
    "    \n",
    "\n",
    "net = Net()\n",
    "net.fc1.bias = torch.nn.Parameter(torch.tensor([0.]))\n",
    "net.fc1.weight = torch.nn.Parameter(torch.tensor([[1.]]))\n",
    "print(\"-----------0-------------\")\n",
    "print(\"0. Bias grad: \", net.fc1.bias.grad)\n",
    "print(\"0. Weights grad: \", net.fc1.weight.grad)\n",
    "print(\"0. Bias: \", net.fc1.bias[0])\n",
    "print(\"0. Weights: \", net.fc1.weight[0])\n",
    "\n",
    "input = torch.tensor([0.])\n",
    "print(\"0. Input: \", input)\n",
    "input.unsqueeze(0)\n",
    "output = net(input)\n",
    "print(\"0. Output: \", output)\n",
    "target = torch.tensor([1.])\n",
    "target = target.view(1, -1)\n",
    "criterion = nn.MSELoss()\n",
    "loss = criterion(output, target)\n",
    "print(\"Loss: \", loss)\n",
    "print(\"Loss function: \", loss.grad_fn)\n",
    "\n",
    "optimizer = optim.SGD(net.parameters(), lr=0.1)\n",
    "optimizer.zero_grad()\n",
    "loss.backward(retain_graph=True)\n",
    "optimizer.step()\n",
    "print(\"-----------1-------------\")\n",
    "print(\"1. Bias grad: \", net.fc1.bias.grad)\n",
    "print(\"1. Weights grad: \",net.fc1.weight.grad)\n",
    "print(\"1. Bias: \", net.fc1.bias[0])\n",
    "print(\"1. Weights: \",net.fc1.weight[0])\n",
    "\n",
    "\n",
    "input = torch.tensor([1.])\n",
    "print(\"1. Input: \", input)\n",
    "input.unsqueeze(0)\n",
    "output = net(input)\n",
    "print(\"1. Output: \", output)\n",
    "target = torch.tensor([3.])\n",
    "target = target.view(1, -1)\n",
    "\n",
    "optimizer.zero_grad()\n",
    "loss = criterion(output, target)\n",
    "loss.backward()\n",
    "optimizer.step()\n",
    "print(\"-----------2-------------\")\n",
    "print(\"2. Bias grad: \", net.fc1.bias.grad)\n",
    "print(\"2. Weights grad: \",net.fc1.weight.grad)\n",
    "print(\"2. Bias: \", net.fc1.bias[0])\n",
    "print(\"2. Weights: \",net.fc1.weight[0])"
   ]
  },
  {
   "cell_type": "code",
   "execution_count": null,
   "metadata": {},
   "outputs": [],
   "source": []
  }
 ],
 "metadata": {
  "kernelspec": {
   "display_name": "Python 3",
   "language": "python",
   "name": "python3"
  },
  "language_info": {
   "codemirror_mode": {
    "name": "ipython",
    "version": 3
   },
   "file_extension": ".py",
   "mimetype": "text/x-python",
   "name": "python",
   "nbconvert_exporter": "python",
   "pygments_lexer": "ipython3",
   "version": "3.6.3"
  }
 },
 "nbformat": 4,
 "nbformat_minor": 2
}
