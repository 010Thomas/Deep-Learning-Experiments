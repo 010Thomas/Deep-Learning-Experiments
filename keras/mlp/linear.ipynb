{
 "cells": [
  {
   "cell_type": "markdown",
   "metadata": {},
   "source": [
    "## Simple linear model"
   ]
  },
  {
   "cell_type": "code",
   "execution_count": null,
   "metadata": {},
   "outputs": [],
   "source": [
    "from __future__ import absolute_import\n",
    "from __future__ import division\n",
    "from __future__ import print_function\n",
    "\n",
    "# numpy package\n",
    "import numpy as np\n",
    "\n",
    "# keras modules\n",
    "from keras.models import Sequential\n",
    "from keras.layers import Dense\n",
    "from keras.utils import plot_model\n",
    "\n",
    "# generate x data\n",
    "x = np.arange(-1,1,0.2)\n",
    "x = np.reshape(x, [-1,1])\n",
    "\n",
    "# generate y data\n",
    "y = 2 * x + 3\n",
    "\n",
    "# True if noise is added to y\n",
    "is_noisy = True\n",
    "\n",
    "# add noise if enabled\n",
    "if is_noisy:\n",
    "    noise = np.random.uniform(-0.1, 0.1, x.shape)\n",
    "    x = x + noise\n",
    "\n",
    "# deep learning method\n",
    "# build 2-layer MLP network \n",
    "model = Sequential()\n",
    "# 1st MLP has 8 units (perceptron), input is 1-dim\n",
    "model.add(Dense(units=8, input_dim=1))\n",
    "# 2nd MLP has 1 unit, output is 1-dim\n",
    "model.add(Dense(units=1))\n",
    "# print summary to double check the network\n",
    "model.summary()\n",
    "# create a nice image of the network model\n",
    "plot_model(model, to_file='linear-model.png', show_shapes=True)\n",
    "# indicate the loss function and use stochastic gradient descent\n",
    "# (sgd) as optimizer\n",
    "model.compile(loss='mse', optimizer='sgd')\n",
    "# feed the network with complete dataset (1 epoch) 100 times\n",
    "# batch size of sgd is 4\n",
    "model.fit(x, y, epochs=100, batch_size=4)\n",
    "# simple validation by predicting the output based on x\n",
    "ypred = model.predict(x)\n",
    "\n",
    "# linear algebra method\n",
    "ones = np.ones(x.shape)\n",
    "# A is the concat of x and 1s\n",
    "A = np.concatenate([x,ones], axis=1)\n",
    "# compute k using using pseudo-inverse\n",
    "k = np.matmul(np.linalg.pinv(A), y) \n",
    "print(\"k (Linear Algebra Method):\")\n",
    "print(k)\n",
    "# predict the output using linear algebra solution\n",
    "yla = np.matmul(A, k)\n",
    "\n",
    "# print ground truth, linear algebra, MLP solutions\n",
    "outputs = np.concatenate([y, yla, ypred], axis=1)\n",
    "print(\"Ground Truth, Linear Alg Prediction, MLP Prediction\")\n",
    "print(outputs)"
   ]
  }
 ],
 "metadata": {
  "kernelspec": {
   "display_name": "Python 3",
   "language": "python",
   "name": "python3"
  },
  "language_info": {
   "codemirror_mode": {
    "name": "ipython",
    "version": 3
   },
   "file_extension": ".py",
   "mimetype": "text/x-python",
   "name": "python",
   "nbconvert_exporter": "python",
   "pygments_lexer": "ipython3",
   "version": "3.6.3"
  }
 },
 "nbformat": 4,
 "nbformat_minor": 2
}
